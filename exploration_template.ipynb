{
 "cells": [
  {
   "cell_type": "markdown",
   "metadata": {},
   "source": [
    "# (Prosper Loan Dataset Exploration)\n",
    "## by (Ahmad Khaled)\n",
    "\n",
    "## Preliminary Wrangling\n",
    "\n",
    ">This Dataset about loans.prosper who help people to take loans by easy way.  This data set contains 113,937 loans with 81 variables on each loan and the link below have what each of these variables mean.\n",
    "https://docs.google.com/spreadsheets/d/1gDyi_L4UvIrLTEC6Wri5nbaMmkGmLQBk-Yx3z0XDEtI/edit#gid=0"
   ]
  },
  {
   "cell_type": "code",
   "execution_count": 1,
   "metadata": {},
   "outputs": [],
   "source": [
    "# import all packages and set plots to be embedded inline\n",
    "import numpy as np\n",
    "import pandas as pd\n",
    "import matplotlib.pyplot as plt\n",
    "import seaborn as sb\n",
    "\n",
    "%matplotlib inline"
   ]
  },
  {
   "cell_type": "markdown",
   "metadata": {},
   "source": [
    "> Load in your dataset and describe its properties through the questions below.\n",
    "Try and motivate your exploration goals through this section."
   ]
  },
  {
   "cell_type": "code",
   "execution_count": 2,
   "metadata": {},
   "outputs": [
    {
     "data": {
      "text/html": [
       "<div>\n",
       "<style scoped>\n",
       "    .dataframe tbody tr th:only-of-type {\n",
       "        vertical-align: middle;\n",
       "    }\n",
       "\n",
       "    .dataframe tbody tr th {\n",
       "        vertical-align: top;\n",
       "    }\n",
       "\n",
       "    .dataframe thead th {\n",
       "        text-align: right;\n",
       "    }\n",
       "</style>\n",
       "<table border=\"1\" class=\"dataframe\">\n",
       "  <thead>\n",
       "    <tr style=\"text-align: right;\">\n",
       "      <th></th>\n",
       "      <th>ListingKey</th>\n",
       "      <th>ListingNumber</th>\n",
       "      <th>ListingCreationDate</th>\n",
       "      <th>CreditGrade</th>\n",
       "      <th>Term</th>\n",
       "      <th>LoanStatus</th>\n",
       "      <th>ClosedDate</th>\n",
       "      <th>BorrowerAPR</th>\n",
       "      <th>BorrowerRate</th>\n",
       "      <th>LenderYield</th>\n",
       "      <th>EstimatedEffectiveYield</th>\n",
       "      <th>EstimatedLoss</th>\n",
       "      <th>EstimatedReturn</th>\n",
       "      <th>ProsperRating (numeric)</th>\n",
       "      <th>ProsperRating (Alpha)</th>\n",
       "      <th>ProsperScore</th>\n",
       "      <th>ListingCategory (numeric)</th>\n",
       "      <th>BorrowerState</th>\n",
       "      <th>Occupation</th>\n",
       "      <th>EmploymentStatus</th>\n",
       "      <th>EmploymentStatusDuration</th>\n",
       "      <th>IsBorrowerHomeowner</th>\n",
       "      <th>CurrentlyInGroup</th>\n",
       "      <th>GroupKey</th>\n",
       "      <th>DateCreditPulled</th>\n",
       "      <th>CreditScoreRangeLower</th>\n",
       "      <th>CreditScoreRangeUpper</th>\n",
       "      <th>FirstRecordedCreditLine</th>\n",
       "      <th>CurrentCreditLines</th>\n",
       "      <th>OpenCreditLines</th>\n",
       "      <th>TotalCreditLinespast7years</th>\n",
       "      <th>OpenRevolvingAccounts</th>\n",
       "      <th>OpenRevolvingMonthlyPayment</th>\n",
       "      <th>InquiriesLast6Months</th>\n",
       "      <th>TotalInquiries</th>\n",
       "      <th>CurrentDelinquencies</th>\n",
       "      <th>AmountDelinquent</th>\n",
       "      <th>DelinquenciesLast7Years</th>\n",
       "      <th>PublicRecordsLast10Years</th>\n",
       "      <th>PublicRecordsLast12Months</th>\n",
       "      <th>RevolvingCreditBalance</th>\n",
       "      <th>BankcardUtilization</th>\n",
       "      <th>AvailableBankcardCredit</th>\n",
       "      <th>TotalTrades</th>\n",
       "      <th>TradesNeverDelinquent (percentage)</th>\n",
       "      <th>TradesOpenedLast6Months</th>\n",
       "      <th>DebtToIncomeRatio</th>\n",
       "      <th>IncomeRange</th>\n",
       "      <th>IncomeVerifiable</th>\n",
       "      <th>StatedMonthlyIncome</th>\n",
       "      <th>LoanKey</th>\n",
       "      <th>TotalProsperLoans</th>\n",
       "      <th>TotalProsperPaymentsBilled</th>\n",
       "      <th>OnTimeProsperPayments</th>\n",
       "      <th>ProsperPaymentsLessThanOneMonthLate</th>\n",
       "      <th>ProsperPaymentsOneMonthPlusLate</th>\n",
       "      <th>ProsperPrincipalBorrowed</th>\n",
       "      <th>ProsperPrincipalOutstanding</th>\n",
       "      <th>ScorexChangeAtTimeOfListing</th>\n",
       "      <th>LoanCurrentDaysDelinquent</th>\n",
       "      <th>LoanFirstDefaultedCycleNumber</th>\n",
       "      <th>LoanMonthsSinceOrigination</th>\n",
       "      <th>LoanNumber</th>\n",
       "      <th>LoanOriginalAmount</th>\n",
       "      <th>LoanOriginationDate</th>\n",
       "      <th>LoanOriginationQuarter</th>\n",
       "      <th>MemberKey</th>\n",
       "      <th>MonthlyLoanPayment</th>\n",
       "      <th>LP_CustomerPayments</th>\n",
       "      <th>LP_CustomerPrincipalPayments</th>\n",
       "      <th>LP_InterestandFees</th>\n",
       "      <th>LP_ServiceFees</th>\n",
       "      <th>LP_CollectionFees</th>\n",
       "      <th>LP_GrossPrincipalLoss</th>\n",
       "      <th>LP_NetPrincipalLoss</th>\n",
       "      <th>LP_NonPrincipalRecoverypayments</th>\n",
       "      <th>PercentFunded</th>\n",
       "      <th>Recommendations</th>\n",
       "      <th>InvestmentFromFriendsCount</th>\n",
       "      <th>InvestmentFromFriendsAmount</th>\n",
       "      <th>Investors</th>\n",
       "    </tr>\n",
       "  </thead>\n",
       "  <tbody>\n",
       "    <tr>\n",
       "      <th>0</th>\n",
       "      <td>1021339766868145413AB3B</td>\n",
       "      <td>193129</td>\n",
       "      <td>2007-08-26 19:09:29.263000000</td>\n",
       "      <td>C</td>\n",
       "      <td>36</td>\n",
       "      <td>Completed</td>\n",
       "      <td>2009-08-14 00:00:00</td>\n",
       "      <td>0.16516</td>\n",
       "      <td>0.1580</td>\n",
       "      <td>0.1380</td>\n",
       "      <td>NaN</td>\n",
       "      <td>NaN</td>\n",
       "      <td>NaN</td>\n",
       "      <td>NaN</td>\n",
       "      <td>NaN</td>\n",
       "      <td>NaN</td>\n",
       "      <td>0</td>\n",
       "      <td>CO</td>\n",
       "      <td>Other</td>\n",
       "      <td>Self-employed</td>\n",
       "      <td>2.0</td>\n",
       "      <td>True</td>\n",
       "      <td>True</td>\n",
       "      <td>NaN</td>\n",
       "      <td>2007-08-26 18:41:46.780000000</td>\n",
       "      <td>640.0</td>\n",
       "      <td>659.0</td>\n",
       "      <td>2001-10-11 00:00:00</td>\n",
       "      <td>5.0</td>\n",
       "      <td>4.0</td>\n",
       "      <td>12.0</td>\n",
       "      <td>1</td>\n",
       "      <td>24.0</td>\n",
       "      <td>3.0</td>\n",
       "      <td>3.0</td>\n",
       "      <td>2.0</td>\n",
       "      <td>472.0</td>\n",
       "      <td>4.0</td>\n",
       "      <td>0.0</td>\n",
       "      <td>0.0</td>\n",
       "      <td>0.0</td>\n",
       "      <td>0.00</td>\n",
       "      <td>1500.0</td>\n",
       "      <td>11.0</td>\n",
       "      <td>0.81</td>\n",
       "      <td>0.0</td>\n",
       "      <td>0.17</td>\n",
       "      <td>$25,000-49,999</td>\n",
       "      <td>True</td>\n",
       "      <td>3083.333333</td>\n",
       "      <td>E33A3400205839220442E84</td>\n",
       "      <td>NaN</td>\n",
       "      <td>NaN</td>\n",
       "      <td>NaN</td>\n",
       "      <td>NaN</td>\n",
       "      <td>NaN</td>\n",
       "      <td>NaN</td>\n",
       "      <td>NaN</td>\n",
       "      <td>NaN</td>\n",
       "      <td>0</td>\n",
       "      <td>NaN</td>\n",
       "      <td>78</td>\n",
       "      <td>19141</td>\n",
       "      <td>9425</td>\n",
       "      <td>2007-09-12 00:00:00</td>\n",
       "      <td>Q3 2007</td>\n",
       "      <td>1F3E3376408759268057EDA</td>\n",
       "      <td>330.43</td>\n",
       "      <td>11396.14</td>\n",
       "      <td>9425.00</td>\n",
       "      <td>1971.14</td>\n",
       "      <td>-133.18</td>\n",
       "      <td>0.0</td>\n",
       "      <td>0.0</td>\n",
       "      <td>0.0</td>\n",
       "      <td>0.0</td>\n",
       "      <td>1.0</td>\n",
       "      <td>0</td>\n",
       "      <td>0</td>\n",
       "      <td>0.0</td>\n",
       "      <td>258</td>\n",
       "    </tr>\n",
       "    <tr>\n",
       "      <th>1</th>\n",
       "      <td>10273602499503308B223C1</td>\n",
       "      <td>1209647</td>\n",
       "      <td>2014-02-27 08:28:07.900000000</td>\n",
       "      <td>NaN</td>\n",
       "      <td>36</td>\n",
       "      <td>Current</td>\n",
       "      <td>NaN</td>\n",
       "      <td>0.12016</td>\n",
       "      <td>0.0920</td>\n",
       "      <td>0.0820</td>\n",
       "      <td>0.07960</td>\n",
       "      <td>0.0249</td>\n",
       "      <td>0.05470</td>\n",
       "      <td>6.0</td>\n",
       "      <td>A</td>\n",
       "      <td>7.0</td>\n",
       "      <td>2</td>\n",
       "      <td>CO</td>\n",
       "      <td>Professional</td>\n",
       "      <td>Employed</td>\n",
       "      <td>44.0</td>\n",
       "      <td>False</td>\n",
       "      <td>False</td>\n",
       "      <td>NaN</td>\n",
       "      <td>2014-02-27 08:28:14</td>\n",
       "      <td>680.0</td>\n",
       "      <td>699.0</td>\n",
       "      <td>1996-03-18 00:00:00</td>\n",
       "      <td>14.0</td>\n",
       "      <td>14.0</td>\n",
       "      <td>29.0</td>\n",
       "      <td>13</td>\n",
       "      <td>389.0</td>\n",
       "      <td>3.0</td>\n",
       "      <td>5.0</td>\n",
       "      <td>0.0</td>\n",
       "      <td>0.0</td>\n",
       "      <td>0.0</td>\n",
       "      <td>1.0</td>\n",
       "      <td>0.0</td>\n",
       "      <td>3989.0</td>\n",
       "      <td>0.21</td>\n",
       "      <td>10266.0</td>\n",
       "      <td>29.0</td>\n",
       "      <td>1.00</td>\n",
       "      <td>2.0</td>\n",
       "      <td>0.18</td>\n",
       "      <td>$50,000-74,999</td>\n",
       "      <td>True</td>\n",
       "      <td>6125.000000</td>\n",
       "      <td>9E3B37071505919926B1D82</td>\n",
       "      <td>NaN</td>\n",
       "      <td>NaN</td>\n",
       "      <td>NaN</td>\n",
       "      <td>NaN</td>\n",
       "      <td>NaN</td>\n",
       "      <td>NaN</td>\n",
       "      <td>NaN</td>\n",
       "      <td>NaN</td>\n",
       "      <td>0</td>\n",
       "      <td>NaN</td>\n",
       "      <td>0</td>\n",
       "      <td>134815</td>\n",
       "      <td>10000</td>\n",
       "      <td>2014-03-03 00:00:00</td>\n",
       "      <td>Q1 2014</td>\n",
       "      <td>1D13370546739025387B2F4</td>\n",
       "      <td>318.93</td>\n",
       "      <td>0.00</td>\n",
       "      <td>0.00</td>\n",
       "      <td>0.00</td>\n",
       "      <td>0.00</td>\n",
       "      <td>0.0</td>\n",
       "      <td>0.0</td>\n",
       "      <td>0.0</td>\n",
       "      <td>0.0</td>\n",
       "      <td>1.0</td>\n",
       "      <td>0</td>\n",
       "      <td>0</td>\n",
       "      <td>0.0</td>\n",
       "      <td>1</td>\n",
       "    </tr>\n",
       "    <tr>\n",
       "      <th>2</th>\n",
       "      <td>0EE9337825851032864889A</td>\n",
       "      <td>81716</td>\n",
       "      <td>2007-01-05 15:00:47.090000000</td>\n",
       "      <td>HR</td>\n",
       "      <td>36</td>\n",
       "      <td>Completed</td>\n",
       "      <td>2009-12-17 00:00:00</td>\n",
       "      <td>0.28269</td>\n",
       "      <td>0.2750</td>\n",
       "      <td>0.2400</td>\n",
       "      <td>NaN</td>\n",
       "      <td>NaN</td>\n",
       "      <td>NaN</td>\n",
       "      <td>NaN</td>\n",
       "      <td>NaN</td>\n",
       "      <td>NaN</td>\n",
       "      <td>0</td>\n",
       "      <td>GA</td>\n",
       "      <td>Other</td>\n",
       "      <td>Not available</td>\n",
       "      <td>NaN</td>\n",
       "      <td>False</td>\n",
       "      <td>True</td>\n",
       "      <td>783C3371218786870A73D20</td>\n",
       "      <td>2007-01-02 14:09:10.060000000</td>\n",
       "      <td>480.0</td>\n",
       "      <td>499.0</td>\n",
       "      <td>2002-07-27 00:00:00</td>\n",
       "      <td>NaN</td>\n",
       "      <td>NaN</td>\n",
       "      <td>3.0</td>\n",
       "      <td>0</td>\n",
       "      <td>0.0</td>\n",
       "      <td>0.0</td>\n",
       "      <td>1.0</td>\n",
       "      <td>1.0</td>\n",
       "      <td>NaN</td>\n",
       "      <td>0.0</td>\n",
       "      <td>0.0</td>\n",
       "      <td>NaN</td>\n",
       "      <td>NaN</td>\n",
       "      <td>NaN</td>\n",
       "      <td>NaN</td>\n",
       "      <td>NaN</td>\n",
       "      <td>NaN</td>\n",
       "      <td>NaN</td>\n",
       "      <td>0.06</td>\n",
       "      <td>Not displayed</td>\n",
       "      <td>True</td>\n",
       "      <td>2083.333333</td>\n",
       "      <td>6954337960046817851BCB2</td>\n",
       "      <td>NaN</td>\n",
       "      <td>NaN</td>\n",
       "      <td>NaN</td>\n",
       "      <td>NaN</td>\n",
       "      <td>NaN</td>\n",
       "      <td>NaN</td>\n",
       "      <td>NaN</td>\n",
       "      <td>NaN</td>\n",
       "      <td>0</td>\n",
       "      <td>NaN</td>\n",
       "      <td>86</td>\n",
       "      <td>6466</td>\n",
       "      <td>3001</td>\n",
       "      <td>2007-01-17 00:00:00</td>\n",
       "      <td>Q1 2007</td>\n",
       "      <td>5F7033715035555618FA612</td>\n",
       "      <td>123.32</td>\n",
       "      <td>4186.63</td>\n",
       "      <td>3001.00</td>\n",
       "      <td>1185.63</td>\n",
       "      <td>-24.20</td>\n",
       "      <td>0.0</td>\n",
       "      <td>0.0</td>\n",
       "      <td>0.0</td>\n",
       "      <td>0.0</td>\n",
       "      <td>1.0</td>\n",
       "      <td>0</td>\n",
       "      <td>0</td>\n",
       "      <td>0.0</td>\n",
       "      <td>41</td>\n",
       "    </tr>\n",
       "    <tr>\n",
       "      <th>3</th>\n",
       "      <td>0EF5356002482715299901A</td>\n",
       "      <td>658116</td>\n",
       "      <td>2012-10-22 11:02:35.010000000</td>\n",
       "      <td>NaN</td>\n",
       "      <td>36</td>\n",
       "      <td>Current</td>\n",
       "      <td>NaN</td>\n",
       "      <td>0.12528</td>\n",
       "      <td>0.0974</td>\n",
       "      <td>0.0874</td>\n",
       "      <td>0.08490</td>\n",
       "      <td>0.0249</td>\n",
       "      <td>0.06000</td>\n",
       "      <td>6.0</td>\n",
       "      <td>A</td>\n",
       "      <td>9.0</td>\n",
       "      <td>16</td>\n",
       "      <td>GA</td>\n",
       "      <td>Skilled Labor</td>\n",
       "      <td>Employed</td>\n",
       "      <td>113.0</td>\n",
       "      <td>True</td>\n",
       "      <td>False</td>\n",
       "      <td>NaN</td>\n",
       "      <td>2012-10-22 11:02:32</td>\n",
       "      <td>800.0</td>\n",
       "      <td>819.0</td>\n",
       "      <td>1983-02-28 00:00:00</td>\n",
       "      <td>5.0</td>\n",
       "      <td>5.0</td>\n",
       "      <td>29.0</td>\n",
       "      <td>7</td>\n",
       "      <td>115.0</td>\n",
       "      <td>0.0</td>\n",
       "      <td>1.0</td>\n",
       "      <td>4.0</td>\n",
       "      <td>10056.0</td>\n",
       "      <td>14.0</td>\n",
       "      <td>0.0</td>\n",
       "      <td>0.0</td>\n",
       "      <td>1444.0</td>\n",
       "      <td>0.04</td>\n",
       "      <td>30754.0</td>\n",
       "      <td>26.0</td>\n",
       "      <td>0.76</td>\n",
       "      <td>0.0</td>\n",
       "      <td>0.15</td>\n",
       "      <td>$25,000-49,999</td>\n",
       "      <td>True</td>\n",
       "      <td>2875.000000</td>\n",
       "      <td>A0393664465886295619C51</td>\n",
       "      <td>NaN</td>\n",
       "      <td>NaN</td>\n",
       "      <td>NaN</td>\n",
       "      <td>NaN</td>\n",
       "      <td>NaN</td>\n",
       "      <td>NaN</td>\n",
       "      <td>NaN</td>\n",
       "      <td>NaN</td>\n",
       "      <td>0</td>\n",
       "      <td>NaN</td>\n",
       "      <td>16</td>\n",
       "      <td>77296</td>\n",
       "      <td>10000</td>\n",
       "      <td>2012-11-01 00:00:00</td>\n",
       "      <td>Q4 2012</td>\n",
       "      <td>9ADE356069835475068C6D2</td>\n",
       "      <td>321.45</td>\n",
       "      <td>5143.20</td>\n",
       "      <td>4091.09</td>\n",
       "      <td>1052.11</td>\n",
       "      <td>-108.01</td>\n",
       "      <td>0.0</td>\n",
       "      <td>0.0</td>\n",
       "      <td>0.0</td>\n",
       "      <td>0.0</td>\n",
       "      <td>1.0</td>\n",
       "      <td>0</td>\n",
       "      <td>0</td>\n",
       "      <td>0.0</td>\n",
       "      <td>158</td>\n",
       "    </tr>\n",
       "    <tr>\n",
       "      <th>4</th>\n",
       "      <td>0F023589499656230C5E3E2</td>\n",
       "      <td>909464</td>\n",
       "      <td>2013-09-14 18:38:39.097000000</td>\n",
       "      <td>NaN</td>\n",
       "      <td>36</td>\n",
       "      <td>Current</td>\n",
       "      <td>NaN</td>\n",
       "      <td>0.24614</td>\n",
       "      <td>0.2085</td>\n",
       "      <td>0.1985</td>\n",
       "      <td>0.18316</td>\n",
       "      <td>0.0925</td>\n",
       "      <td>0.09066</td>\n",
       "      <td>3.0</td>\n",
       "      <td>D</td>\n",
       "      <td>4.0</td>\n",
       "      <td>2</td>\n",
       "      <td>MN</td>\n",
       "      <td>Executive</td>\n",
       "      <td>Employed</td>\n",
       "      <td>44.0</td>\n",
       "      <td>True</td>\n",
       "      <td>False</td>\n",
       "      <td>NaN</td>\n",
       "      <td>2013-09-14 18:38:44</td>\n",
       "      <td>680.0</td>\n",
       "      <td>699.0</td>\n",
       "      <td>2004-02-20 00:00:00</td>\n",
       "      <td>19.0</td>\n",
       "      <td>19.0</td>\n",
       "      <td>49.0</td>\n",
       "      <td>6</td>\n",
       "      <td>220.0</td>\n",
       "      <td>1.0</td>\n",
       "      <td>9.0</td>\n",
       "      <td>0.0</td>\n",
       "      <td>0.0</td>\n",
       "      <td>0.0</td>\n",
       "      <td>0.0</td>\n",
       "      <td>0.0</td>\n",
       "      <td>6193.0</td>\n",
       "      <td>0.81</td>\n",
       "      <td>695.0</td>\n",
       "      <td>39.0</td>\n",
       "      <td>0.95</td>\n",
       "      <td>2.0</td>\n",
       "      <td>0.26</td>\n",
       "      <td>$100,000+</td>\n",
       "      <td>True</td>\n",
       "      <td>9583.333333</td>\n",
       "      <td>A180369302188889200689E</td>\n",
       "      <td>1.0</td>\n",
       "      <td>11.0</td>\n",
       "      <td>11.0</td>\n",
       "      <td>0.0</td>\n",
       "      <td>0.0</td>\n",
       "      <td>11000.0</td>\n",
       "      <td>9947.9</td>\n",
       "      <td>NaN</td>\n",
       "      <td>0</td>\n",
       "      <td>NaN</td>\n",
       "      <td>6</td>\n",
       "      <td>102670</td>\n",
       "      <td>15000</td>\n",
       "      <td>2013-09-20 00:00:00</td>\n",
       "      <td>Q3 2013</td>\n",
       "      <td>36CE356043264555721F06C</td>\n",
       "      <td>563.97</td>\n",
       "      <td>2819.85</td>\n",
       "      <td>1563.22</td>\n",
       "      <td>1256.63</td>\n",
       "      <td>-60.27</td>\n",
       "      <td>0.0</td>\n",
       "      <td>0.0</td>\n",
       "      <td>0.0</td>\n",
       "      <td>0.0</td>\n",
       "      <td>1.0</td>\n",
       "      <td>0</td>\n",
       "      <td>0</td>\n",
       "      <td>0.0</td>\n",
       "      <td>20</td>\n",
       "    </tr>\n",
       "  </tbody>\n",
       "</table>\n",
       "</div>"
      ],
      "text/plain": [
       "                ListingKey  ListingNumber            ListingCreationDate  \\\n",
       "0  1021339766868145413AB3B         193129  2007-08-26 19:09:29.263000000   \n",
       "1  10273602499503308B223C1        1209647  2014-02-27 08:28:07.900000000   \n",
       "2  0EE9337825851032864889A          81716  2007-01-05 15:00:47.090000000   \n",
       "3  0EF5356002482715299901A         658116  2012-10-22 11:02:35.010000000   \n",
       "4  0F023589499656230C5E3E2         909464  2013-09-14 18:38:39.097000000   \n",
       "\n",
       "  CreditGrade  Term LoanStatus           ClosedDate  BorrowerAPR  \\\n",
       "0           C    36  Completed  2009-08-14 00:00:00      0.16516   \n",
       "1         NaN    36    Current                  NaN      0.12016   \n",
       "2          HR    36  Completed  2009-12-17 00:00:00      0.28269   \n",
       "3         NaN    36    Current                  NaN      0.12528   \n",
       "4         NaN    36    Current                  NaN      0.24614   \n",
       "\n",
       "   BorrowerRate  LenderYield  EstimatedEffectiveYield  EstimatedLoss  \\\n",
       "0        0.1580       0.1380                      NaN            NaN   \n",
       "1        0.0920       0.0820                  0.07960         0.0249   \n",
       "2        0.2750       0.2400                      NaN            NaN   \n",
       "3        0.0974       0.0874                  0.08490         0.0249   \n",
       "4        0.2085       0.1985                  0.18316         0.0925   \n",
       "\n",
       "   EstimatedReturn  ProsperRating (numeric) ProsperRating (Alpha)  \\\n",
       "0              NaN                      NaN                   NaN   \n",
       "1          0.05470                      6.0                     A   \n",
       "2              NaN                      NaN                   NaN   \n",
       "3          0.06000                      6.0                     A   \n",
       "4          0.09066                      3.0                     D   \n",
       "\n",
       "   ProsperScore  ListingCategory (numeric) BorrowerState     Occupation  \\\n",
       "0           NaN                          0            CO          Other   \n",
       "1           7.0                          2            CO   Professional   \n",
       "2           NaN                          0            GA          Other   \n",
       "3           9.0                         16            GA  Skilled Labor   \n",
       "4           4.0                          2            MN      Executive   \n",
       "\n",
       "  EmploymentStatus  EmploymentStatusDuration  IsBorrowerHomeowner  \\\n",
       "0    Self-employed                       2.0                 True   \n",
       "1         Employed                      44.0                False   \n",
       "2    Not available                       NaN                False   \n",
       "3         Employed                     113.0                 True   \n",
       "4         Employed                      44.0                 True   \n",
       "\n",
       "   CurrentlyInGroup                 GroupKey               DateCreditPulled  \\\n",
       "0              True                      NaN  2007-08-26 18:41:46.780000000   \n",
       "1             False                      NaN            2014-02-27 08:28:14   \n",
       "2              True  783C3371218786870A73D20  2007-01-02 14:09:10.060000000   \n",
       "3             False                      NaN            2012-10-22 11:02:32   \n",
       "4             False                      NaN            2013-09-14 18:38:44   \n",
       "\n",
       "   CreditScoreRangeLower  CreditScoreRangeUpper FirstRecordedCreditLine  \\\n",
       "0                  640.0                  659.0     2001-10-11 00:00:00   \n",
       "1                  680.0                  699.0     1996-03-18 00:00:00   \n",
       "2                  480.0                  499.0     2002-07-27 00:00:00   \n",
       "3                  800.0                  819.0     1983-02-28 00:00:00   \n",
       "4                  680.0                  699.0     2004-02-20 00:00:00   \n",
       "\n",
       "   CurrentCreditLines  OpenCreditLines  TotalCreditLinespast7years  \\\n",
       "0                 5.0              4.0                        12.0   \n",
       "1                14.0             14.0                        29.0   \n",
       "2                 NaN              NaN                         3.0   \n",
       "3                 5.0              5.0                        29.0   \n",
       "4                19.0             19.0                        49.0   \n",
       "\n",
       "   OpenRevolvingAccounts  OpenRevolvingMonthlyPayment  InquiriesLast6Months  \\\n",
       "0                      1                         24.0                   3.0   \n",
       "1                     13                        389.0                   3.0   \n",
       "2                      0                          0.0                   0.0   \n",
       "3                      7                        115.0                   0.0   \n",
       "4                      6                        220.0                   1.0   \n",
       "\n",
       "   TotalInquiries  CurrentDelinquencies  AmountDelinquent  \\\n",
       "0             3.0                   2.0             472.0   \n",
       "1             5.0                   0.0               0.0   \n",
       "2             1.0                   1.0               NaN   \n",
       "3             1.0                   4.0           10056.0   \n",
       "4             9.0                   0.0               0.0   \n",
       "\n",
       "   DelinquenciesLast7Years  PublicRecordsLast10Years  \\\n",
       "0                      4.0                       0.0   \n",
       "1                      0.0                       1.0   \n",
       "2                      0.0                       0.0   \n",
       "3                     14.0                       0.0   \n",
       "4                      0.0                       0.0   \n",
       "\n",
       "   PublicRecordsLast12Months  RevolvingCreditBalance  BankcardUtilization  \\\n",
       "0                        0.0                     0.0                 0.00   \n",
       "1                        0.0                  3989.0                 0.21   \n",
       "2                        NaN                     NaN                  NaN   \n",
       "3                        0.0                  1444.0                 0.04   \n",
       "4                        0.0                  6193.0                 0.81   \n",
       "\n",
       "   AvailableBankcardCredit  TotalTrades  TradesNeverDelinquent (percentage)  \\\n",
       "0                   1500.0         11.0                                0.81   \n",
       "1                  10266.0         29.0                                1.00   \n",
       "2                      NaN          NaN                                 NaN   \n",
       "3                  30754.0         26.0                                0.76   \n",
       "4                    695.0         39.0                                0.95   \n",
       "\n",
       "   TradesOpenedLast6Months  DebtToIncomeRatio     IncomeRange  \\\n",
       "0                      0.0               0.17  $25,000-49,999   \n",
       "1                      2.0               0.18  $50,000-74,999   \n",
       "2                      NaN               0.06   Not displayed   \n",
       "3                      0.0               0.15  $25,000-49,999   \n",
       "4                      2.0               0.26       $100,000+   \n",
       "\n",
       "   IncomeVerifiable  StatedMonthlyIncome                  LoanKey  \\\n",
       "0              True          3083.333333  E33A3400205839220442E84   \n",
       "1              True          6125.000000  9E3B37071505919926B1D82   \n",
       "2              True          2083.333333  6954337960046817851BCB2   \n",
       "3              True          2875.000000  A0393664465886295619C51   \n",
       "4              True          9583.333333  A180369302188889200689E   \n",
       "\n",
       "   TotalProsperLoans  TotalProsperPaymentsBilled  OnTimeProsperPayments  \\\n",
       "0                NaN                         NaN                    NaN   \n",
       "1                NaN                         NaN                    NaN   \n",
       "2                NaN                         NaN                    NaN   \n",
       "3                NaN                         NaN                    NaN   \n",
       "4                1.0                        11.0                   11.0   \n",
       "\n",
       "   ProsperPaymentsLessThanOneMonthLate  ProsperPaymentsOneMonthPlusLate  \\\n",
       "0                                  NaN                              NaN   \n",
       "1                                  NaN                              NaN   \n",
       "2                                  NaN                              NaN   \n",
       "3                                  NaN                              NaN   \n",
       "4                                  0.0                              0.0   \n",
       "\n",
       "   ProsperPrincipalBorrowed  ProsperPrincipalOutstanding  \\\n",
       "0                       NaN                          NaN   \n",
       "1                       NaN                          NaN   \n",
       "2                       NaN                          NaN   \n",
       "3                       NaN                          NaN   \n",
       "4                   11000.0                       9947.9   \n",
       "\n",
       "   ScorexChangeAtTimeOfListing  LoanCurrentDaysDelinquent  \\\n",
       "0                          NaN                          0   \n",
       "1                          NaN                          0   \n",
       "2                          NaN                          0   \n",
       "3                          NaN                          0   \n",
       "4                          NaN                          0   \n",
       "\n",
       "   LoanFirstDefaultedCycleNumber  LoanMonthsSinceOrigination  LoanNumber  \\\n",
       "0                            NaN                          78       19141   \n",
       "1                            NaN                           0      134815   \n",
       "2                            NaN                          86        6466   \n",
       "3                            NaN                          16       77296   \n",
       "4                            NaN                           6      102670   \n",
       "\n",
       "   LoanOriginalAmount  LoanOriginationDate LoanOriginationQuarter  \\\n",
       "0                9425  2007-09-12 00:00:00                Q3 2007   \n",
       "1               10000  2014-03-03 00:00:00                Q1 2014   \n",
       "2                3001  2007-01-17 00:00:00                Q1 2007   \n",
       "3               10000  2012-11-01 00:00:00                Q4 2012   \n",
       "4               15000  2013-09-20 00:00:00                Q3 2013   \n",
       "\n",
       "                 MemberKey  MonthlyLoanPayment  LP_CustomerPayments  \\\n",
       "0  1F3E3376408759268057EDA              330.43             11396.14   \n",
       "1  1D13370546739025387B2F4              318.93                 0.00   \n",
       "2  5F7033715035555618FA612              123.32              4186.63   \n",
       "3  9ADE356069835475068C6D2              321.45              5143.20   \n",
       "4  36CE356043264555721F06C              563.97              2819.85   \n",
       "\n",
       "   LP_CustomerPrincipalPayments  LP_InterestandFees  LP_ServiceFees  \\\n",
       "0                       9425.00             1971.14         -133.18   \n",
       "1                          0.00                0.00            0.00   \n",
       "2                       3001.00             1185.63          -24.20   \n",
       "3                       4091.09             1052.11         -108.01   \n",
       "4                       1563.22             1256.63          -60.27   \n",
       "\n",
       "   LP_CollectionFees  LP_GrossPrincipalLoss  LP_NetPrincipalLoss  \\\n",
       "0                0.0                    0.0                  0.0   \n",
       "1                0.0                    0.0                  0.0   \n",
       "2                0.0                    0.0                  0.0   \n",
       "3                0.0                    0.0                  0.0   \n",
       "4                0.0                    0.0                  0.0   \n",
       "\n",
       "   LP_NonPrincipalRecoverypayments  PercentFunded  Recommendations  \\\n",
       "0                              0.0            1.0                0   \n",
       "1                              0.0            1.0                0   \n",
       "2                              0.0            1.0                0   \n",
       "3                              0.0            1.0                0   \n",
       "4                              0.0            1.0                0   \n",
       "\n",
       "   InvestmentFromFriendsCount  InvestmentFromFriendsAmount  Investors  \n",
       "0                           0                          0.0        258  \n",
       "1                           0                          0.0          1  \n",
       "2                           0                          0.0         41  \n",
       "3                           0                          0.0        158  \n",
       "4                           0                          0.0         20  "
      ]
     },
     "execution_count": 2,
     "metadata": {},
     "output_type": "execute_result"
    }
   ],
   "source": [
    "# Load dataset\n",
    "df_org = pd.read_csv('ProsperLoanData.csv')\n",
    "\n",
    "#to make data easy to read\n",
    "pd.set_option('display.max_columns', 81)\n",
    "df_org.head()"
   ]
  },
  {
   "cell_type": "code",
   "execution_count": 3,
   "metadata": {},
   "outputs": [
    {
     "data": {
      "text/plain": [
       "(113937, 81)"
      ]
     },
     "execution_count": 3,
     "metadata": {},
     "output_type": "execute_result"
    }
   ],
   "source": [
    "df_org.shape"
   ]
  },
  {
   "cell_type": "code",
   "execution_count": 4,
   "metadata": {},
   "outputs": [
    {
     "data": {
      "text/plain": [
       "0"
      ]
     },
     "execution_count": 4,
     "metadata": {},
     "output_type": "execute_result"
    }
   ],
   "source": [
    "#to check if there was any duplicated data\n",
    "sum(df_org.duplicated())"
   ]
  },
  {
   "cell_type": "code",
   "execution_count": 5,
   "metadata": {},
   "outputs": [
    {
     "name": "stdout",
     "output_type": "stream",
     "text": [
      "<class 'pandas.core.frame.DataFrame'>\n",
      "RangeIndex: 113937 entries, 0 to 113936\n",
      "Data columns (total 81 columns):\n",
      " #   Column                               Non-Null Count   Dtype  \n",
      "---  ------                               --------------   -----  \n",
      " 0   ListingKey                           113937 non-null  object \n",
      " 1   ListingNumber                        113937 non-null  int64  \n",
      " 2   ListingCreationDate                  113937 non-null  object \n",
      " 3   CreditGrade                          28953 non-null   object \n",
      " 4   Term                                 113937 non-null  int64  \n",
      " 5   LoanStatus                           113937 non-null  object \n",
      " 6   ClosedDate                           55089 non-null   object \n",
      " 7   BorrowerAPR                          113912 non-null  float64\n",
      " 8   BorrowerRate                         113937 non-null  float64\n",
      " 9   LenderYield                          113937 non-null  float64\n",
      " 10  EstimatedEffectiveYield              84853 non-null   float64\n",
      " 11  EstimatedLoss                        84853 non-null   float64\n",
      " 12  EstimatedReturn                      84853 non-null   float64\n",
      " 13  ProsperRating (numeric)              84853 non-null   float64\n",
      " 14  ProsperRating (Alpha)                84853 non-null   object \n",
      " 15  ProsperScore                         84853 non-null   float64\n",
      " 16  ListingCategory (numeric)            113937 non-null  int64  \n",
      " 17  BorrowerState                        108422 non-null  object \n",
      " 18  Occupation                           110349 non-null  object \n",
      " 19  EmploymentStatus                     111682 non-null  object \n",
      " 20  EmploymentStatusDuration             106312 non-null  float64\n",
      " 21  IsBorrowerHomeowner                  113937 non-null  bool   \n",
      " 22  CurrentlyInGroup                     113937 non-null  bool   \n",
      " 23  GroupKey                             13341 non-null   object \n",
      " 24  DateCreditPulled                     113937 non-null  object \n",
      " 25  CreditScoreRangeLower                113346 non-null  float64\n",
      " 26  CreditScoreRangeUpper                113346 non-null  float64\n",
      " 27  FirstRecordedCreditLine              113240 non-null  object \n",
      " 28  CurrentCreditLines                   106333 non-null  float64\n",
      " 29  OpenCreditLines                      106333 non-null  float64\n",
      " 30  TotalCreditLinespast7years           113240 non-null  float64\n",
      " 31  OpenRevolvingAccounts                113937 non-null  int64  \n",
      " 32  OpenRevolvingMonthlyPayment          113937 non-null  float64\n",
      " 33  InquiriesLast6Months                 113240 non-null  float64\n",
      " 34  TotalInquiries                       112778 non-null  float64\n",
      " 35  CurrentDelinquencies                 113240 non-null  float64\n",
      " 36  AmountDelinquent                     106315 non-null  float64\n",
      " 37  DelinquenciesLast7Years              112947 non-null  float64\n",
      " 38  PublicRecordsLast10Years             113240 non-null  float64\n",
      " 39  PublicRecordsLast12Months            106333 non-null  float64\n",
      " 40  RevolvingCreditBalance               106333 non-null  float64\n",
      " 41  BankcardUtilization                  106333 non-null  float64\n",
      " 42  AvailableBankcardCredit              106393 non-null  float64\n",
      " 43  TotalTrades                          106393 non-null  float64\n",
      " 44  TradesNeverDelinquent (percentage)   106393 non-null  float64\n",
      " 45  TradesOpenedLast6Months              106393 non-null  float64\n",
      " 46  DebtToIncomeRatio                    105383 non-null  float64\n",
      " 47  IncomeRange                          113937 non-null  object \n",
      " 48  IncomeVerifiable                     113937 non-null  bool   \n",
      " 49  StatedMonthlyIncome                  113937 non-null  float64\n",
      " 50  LoanKey                              113937 non-null  object \n",
      " 51  TotalProsperLoans                    22085 non-null   float64\n",
      " 52  TotalProsperPaymentsBilled           22085 non-null   float64\n",
      " 53  OnTimeProsperPayments                22085 non-null   float64\n",
      " 54  ProsperPaymentsLessThanOneMonthLate  22085 non-null   float64\n",
      " 55  ProsperPaymentsOneMonthPlusLate      22085 non-null   float64\n",
      " 56  ProsperPrincipalBorrowed             22085 non-null   float64\n",
      " 57  ProsperPrincipalOutstanding          22085 non-null   float64\n",
      " 58  ScorexChangeAtTimeOfListing          18928 non-null   float64\n",
      " 59  LoanCurrentDaysDelinquent            113937 non-null  int64  \n",
      " 60  LoanFirstDefaultedCycleNumber        16952 non-null   float64\n",
      " 61  LoanMonthsSinceOrigination           113937 non-null  int64  \n",
      " 62  LoanNumber                           113937 non-null  int64  \n",
      " 63  LoanOriginalAmount                   113937 non-null  int64  \n",
      " 64  LoanOriginationDate                  113937 non-null  object \n",
      " 65  LoanOriginationQuarter               113937 non-null  object \n",
      " 66  MemberKey                            113937 non-null  object \n",
      " 67  MonthlyLoanPayment                   113937 non-null  float64\n",
      " 68  LP_CustomerPayments                  113937 non-null  float64\n",
      " 69  LP_CustomerPrincipalPayments         113937 non-null  float64\n",
      " 70  LP_InterestandFees                   113937 non-null  float64\n",
      " 71  LP_ServiceFees                       113937 non-null  float64\n",
      " 72  LP_CollectionFees                    113937 non-null  float64\n",
      " 73  LP_GrossPrincipalLoss                113937 non-null  float64\n",
      " 74  LP_NetPrincipalLoss                  113937 non-null  float64\n",
      " 75  LP_NonPrincipalRecoverypayments      113937 non-null  float64\n",
      " 76  PercentFunded                        113937 non-null  float64\n",
      " 77  Recommendations                      113937 non-null  int64  \n",
      " 78  InvestmentFromFriendsCount           113937 non-null  int64  \n",
      " 79  InvestmentFromFriendsAmount          113937 non-null  float64\n",
      " 80  Investors                            113937 non-null  int64  \n",
      "dtypes: bool(3), float64(50), int64(11), object(17)\n",
      "memory usage: 68.1+ MB\n"
     ]
    }
   ],
   "source": [
    "df_org.info();"
   ]
  },
  {
   "cell_type": "code",
   "execution_count": 6,
   "metadata": {},
   "outputs": [
    {
     "data": {
      "text/plain": [
       "GroupKey                               100596\n",
       "LoanFirstDefaultedCycleNumber           96985\n",
       "ScorexChangeAtTimeOfListing             95009\n",
       "ProsperPrincipalOutstanding             91852\n",
       "ProsperPrincipalBorrowed                91852\n",
       "ProsperPaymentsOneMonthPlusLate         91852\n",
       "ProsperPaymentsLessThanOneMonthLate     91852\n",
       "OnTimeProsperPayments                   91852\n",
       "TotalProsperPaymentsBilled              91852\n",
       "TotalProsperLoans                       91852\n",
       "CreditGrade                             84984\n",
       "ClosedDate                              58848\n",
       "EstimatedReturn                         29084\n",
       "EstimatedEffectiveYield                 29084\n",
       "EstimatedLoss                           29084\n",
       "ProsperScore                            29084\n",
       "ProsperRating (numeric)                 29084\n",
       "ProsperRating (Alpha)                   29084\n",
       "DebtToIncomeRatio                        8554\n",
       "EmploymentStatusDuration                 7625\n",
       "AmountDelinquent                         7622\n",
       "BankcardUtilization                      7604\n",
       "RevolvingCreditBalance                   7604\n",
       "PublicRecordsLast12Months                7604\n",
       "OpenCreditLines                          7604\n",
       "CurrentCreditLines                       7604\n",
       "TotalTrades                              7544\n",
       "TradesNeverDelinquent (percentage)       7544\n",
       "TradesOpenedLast6Months                  7544\n",
       "AvailableBankcardCredit                  7544\n",
       "BorrowerState                            5515\n",
       "Occupation                               3588\n",
       "EmploymentStatus                         2255\n",
       "TotalInquiries                           1159\n",
       "DelinquenciesLast7Years                   990\n",
       "FirstRecordedCreditLine                   697\n",
       "TotalCreditLinespast7years                697\n",
       "InquiriesLast6Months                      697\n",
       "CurrentDelinquencies                      697\n",
       "PublicRecordsLast10Years                  697\n",
       "CreditScoreRangeLower                     591\n",
       "CreditScoreRangeUpper                     591\n",
       "BorrowerAPR                                25\n",
       "dtype: int64"
      ]
     },
     "execution_count": 6,
     "metadata": {},
     "output_type": "execute_result"
    }
   ],
   "source": [
    "#to check null values\n",
    "data_miss=df_org.isnull().sum()\n",
    "#Taking only data with null values\n",
    "data_miss=data_miss[data_miss>0]\n",
    "#Sort the data\n",
    "data_miss.sort_values(ascending=False)"
   ]
  },
  {
   "cell_type": "markdown",
   "metadata": {},
   "source": [
    "### Due to we want to investigate this dataset and this big number of null values,so i will make a new subset of the data the will use it in my exploration"
   ]
  },
  {
   "cell_type": "code",
   "execution_count": 7,
   "metadata": {},
   "outputs": [
    {
     "data": {
      "text/html": [
       "<div>\n",
       "<style scoped>\n",
       "    .dataframe tbody tr th:only-of-type {\n",
       "        vertical-align: middle;\n",
       "    }\n",
       "\n",
       "    .dataframe tbody tr th {\n",
       "        vertical-align: top;\n",
       "    }\n",
       "\n",
       "    .dataframe thead th {\n",
       "        text-align: right;\n",
       "    }\n",
       "</style>\n",
       "<table border=\"1\" class=\"dataframe\">\n",
       "  <thead>\n",
       "    <tr style=\"text-align: right;\">\n",
       "      <th></th>\n",
       "      <th>Term</th>\n",
       "      <th>LoanStatus</th>\n",
       "      <th>BorrowerRate</th>\n",
       "      <th>ProsperRating (Alpha)</th>\n",
       "      <th>ListingCategory (numeric)</th>\n",
       "      <th>EmploymentStatus</th>\n",
       "      <th>DelinquenciesLast7Years</th>\n",
       "      <th>StatedMonthlyIncome</th>\n",
       "      <th>TotalProsperLoans</th>\n",
       "      <th>LoanOriginalAmount</th>\n",
       "      <th>LoanOriginationDate</th>\n",
       "      <th>Investors</th>\n",
       "    </tr>\n",
       "  </thead>\n",
       "  <tbody>\n",
       "    <tr>\n",
       "      <th>0</th>\n",
       "      <td>36</td>\n",
       "      <td>Completed</td>\n",
       "      <td>0.1580</td>\n",
       "      <td>NaN</td>\n",
       "      <td>0</td>\n",
       "      <td>Self-employed</td>\n",
       "      <td>4.0</td>\n",
       "      <td>3083.333333</td>\n",
       "      <td>NaN</td>\n",
       "      <td>9425</td>\n",
       "      <td>2007-09-12 00:00:00</td>\n",
       "      <td>258</td>\n",
       "    </tr>\n",
       "    <tr>\n",
       "      <th>1</th>\n",
       "      <td>36</td>\n",
       "      <td>Current</td>\n",
       "      <td>0.0920</td>\n",
       "      <td>A</td>\n",
       "      <td>2</td>\n",
       "      <td>Employed</td>\n",
       "      <td>0.0</td>\n",
       "      <td>6125.000000</td>\n",
       "      <td>NaN</td>\n",
       "      <td>10000</td>\n",
       "      <td>2014-03-03 00:00:00</td>\n",
       "      <td>1</td>\n",
       "    </tr>\n",
       "    <tr>\n",
       "      <th>2</th>\n",
       "      <td>36</td>\n",
       "      <td>Completed</td>\n",
       "      <td>0.2750</td>\n",
       "      <td>NaN</td>\n",
       "      <td>0</td>\n",
       "      <td>Not available</td>\n",
       "      <td>0.0</td>\n",
       "      <td>2083.333333</td>\n",
       "      <td>NaN</td>\n",
       "      <td>3001</td>\n",
       "      <td>2007-01-17 00:00:00</td>\n",
       "      <td>41</td>\n",
       "    </tr>\n",
       "    <tr>\n",
       "      <th>3</th>\n",
       "      <td>36</td>\n",
       "      <td>Current</td>\n",
       "      <td>0.0974</td>\n",
       "      <td>A</td>\n",
       "      <td>16</td>\n",
       "      <td>Employed</td>\n",
       "      <td>14.0</td>\n",
       "      <td>2875.000000</td>\n",
       "      <td>NaN</td>\n",
       "      <td>10000</td>\n",
       "      <td>2012-11-01 00:00:00</td>\n",
       "      <td>158</td>\n",
       "    </tr>\n",
       "    <tr>\n",
       "      <th>4</th>\n",
       "      <td>36</td>\n",
       "      <td>Current</td>\n",
       "      <td>0.2085</td>\n",
       "      <td>D</td>\n",
       "      <td>2</td>\n",
       "      <td>Employed</td>\n",
       "      <td>0.0</td>\n",
       "      <td>9583.333333</td>\n",
       "      <td>1.0</td>\n",
       "      <td>15000</td>\n",
       "      <td>2013-09-20 00:00:00</td>\n",
       "      <td>20</td>\n",
       "    </tr>\n",
       "  </tbody>\n",
       "</table>\n",
       "</div>"
      ],
      "text/plain": [
       "   Term LoanStatus  BorrowerRate ProsperRating (Alpha)  \\\n",
       "0    36  Completed        0.1580                   NaN   \n",
       "1    36    Current        0.0920                     A   \n",
       "2    36  Completed        0.2750                   NaN   \n",
       "3    36    Current        0.0974                     A   \n",
       "4    36    Current        0.2085                     D   \n",
       "\n",
       "   ListingCategory (numeric) EmploymentStatus  DelinquenciesLast7Years  \\\n",
       "0                          0    Self-employed                      4.0   \n",
       "1                          2         Employed                      0.0   \n",
       "2                          0    Not available                      0.0   \n",
       "3                         16         Employed                     14.0   \n",
       "4                          2         Employed                      0.0   \n",
       "\n",
       "   StatedMonthlyIncome  TotalProsperLoans  LoanOriginalAmount  \\\n",
       "0          3083.333333                NaN                9425   \n",
       "1          6125.000000                NaN               10000   \n",
       "2          2083.333333                NaN                3001   \n",
       "3          2875.000000                NaN               10000   \n",
       "4          9583.333333                1.0               15000   \n",
       "\n",
       "   LoanOriginationDate  Investors  \n",
       "0  2007-09-12 00:00:00        258  \n",
       "1  2014-03-03 00:00:00          1  \n",
       "2  2007-01-17 00:00:00         41  \n",
       "3  2012-11-01 00:00:00        158  \n",
       "4  2013-09-20 00:00:00         20  "
      ]
     },
     "execution_count": 7,
     "metadata": {},
     "output_type": "execute_result"
    }
   ],
   "source": [
    "#Make a list of columns we will drop\n",
    "col_interest= ['Term', 'LoanStatus', 'BorrowerRate', 'ProsperRating (Alpha)','ListingCategory (numeric)', 'EmploymentStatus',\n",
    "    'DelinquenciesLast7Years', 'StatedMonthlyIncome', 'TotalProsperLoans', 'LoanOriginalAmount',\n",
    "    'LoanOriginationDate', 'Investors']\n",
    "#Making subset for variables we need while exploration\n",
    "df_sub=df_org[col_interest]\n",
    "df_sub.head()"
   ]
  },
  {
   "cell_type": "code",
   "execution_count": 8,
   "metadata": {},
   "outputs": [
    {
     "name": "stdout",
     "output_type": "stream",
     "text": [
      "<class 'pandas.core.frame.DataFrame'>\n",
      "RangeIndex: 113937 entries, 0 to 113936\n",
      "Data columns (total 12 columns):\n",
      " #   Column                     Non-Null Count   Dtype  \n",
      "---  ------                     --------------   -----  \n",
      " 0   Term                       113937 non-null  int64  \n",
      " 1   LoanStatus                 113937 non-null  object \n",
      " 2   BorrowerRate               113937 non-null  float64\n",
      " 3   ProsperRating (Alpha)      84853 non-null   object \n",
      " 4   ListingCategory (numeric)  113937 non-null  int64  \n",
      " 5   EmploymentStatus           111682 non-null  object \n",
      " 6   DelinquenciesLast7Years    112947 non-null  float64\n",
      " 7   StatedMonthlyIncome        113937 non-null  float64\n",
      " 8   TotalProsperLoans          22085 non-null   float64\n",
      " 9   LoanOriginalAmount         113937 non-null  int64  \n",
      " 10  LoanOriginationDate        113937 non-null  object \n",
      " 11  Investors                  113937 non-null  int64  \n",
      "dtypes: float64(4), int64(4), object(4)\n",
      "memory usage: 10.4+ MB\n"
     ]
    }
   ],
   "source": [
    "df_sub.info()"
   ]
  },
  {
   "cell_type": "code",
   "execution_count": 9,
   "metadata": {
    "scrolled": true
   },
   "outputs": [
    {
     "name": "stdout",
     "output_type": "stream",
     "text": [
      "<class 'pandas.core.frame.DataFrame'>\n",
      "RangeIndex: 113937 entries, 0 to 113936\n",
      "Data columns (total 12 columns):\n",
      " #   Column                     Non-Null Count   Dtype         \n",
      "---  ------                     --------------   -----         \n",
      " 0   Term                       113937 non-null  int64         \n",
      " 1   LoanStatus                 113937 non-null  object        \n",
      " 2   BorrowerRate               113937 non-null  float64       \n",
      " 3   ProsperRating (Alpha)      84853 non-null   object        \n",
      " 4   ListingCategory (numeric)  113937 non-null  int64         \n",
      " 5   EmploymentStatus           111682 non-null  object        \n",
      " 6   DelinquenciesLast7Years    112947 non-null  float64       \n",
      " 7   StatedMonthlyIncome        113937 non-null  float64       \n",
      " 8   TotalProsperLoans          22085 non-null   float64       \n",
      " 9   LoanOriginalAmount         113937 non-null  int64         \n",
      " 10  LoanOriginationDate        113937 non-null  datetime64[ns]\n",
      " 11  Investors                  113937 non-null  int64         \n",
      "dtypes: datetime64[ns](1), float64(4), int64(4), object(3)\n",
      "memory usage: 10.4+ MB\n"
     ]
    },
    {
     "name": "stderr",
     "output_type": "stream",
     "text": [
      "<ipython-input-9-d17fa20cfb50>:2: SettingWithCopyWarning: \n",
      "A value is trying to be set on a copy of a slice from a DataFrame.\n",
      "Try using .loc[row_indexer,col_indexer] = value instead\n",
      "\n",
      "See the caveats in the documentation: https://pandas.pydata.org/pandas-docs/stable/user_guide/indexing.html#returning-a-view-versus-a-copy\n",
      "  df_sub['LoanOriginationDate'] = pd.to_datetime(df_sub['LoanOriginationDate'])\n"
     ]
    }
   ],
   "source": [
    "#Find quality issue in loanoriginationdate need to be datatime type\n",
    "df_sub['LoanOriginationDate'] = pd.to_datetime(df_sub['LoanOriginationDate'])\n",
    "# To check changes\n",
    "df_sub.info()"
   ]
  },
  {
   "cell_type": "code",
   "execution_count": 10,
   "metadata": {},
   "outputs": [
    {
     "data": {
      "text/plain": [
       "Term                             0\n",
       "LoanStatus                       0\n",
       "BorrowerRate                     0\n",
       "ProsperRating (Alpha)        29084\n",
       "ListingCategory (numeric)        0\n",
       "EmploymentStatus              2255\n",
       "DelinquenciesLast7Years        990\n",
       "StatedMonthlyIncome              0\n",
       "TotalProsperLoans            91852\n",
       "LoanOriginalAmount               0\n",
       "LoanOriginationDate              0\n",
       "Investors                        0\n",
       "dtype: int64"
      ]
     },
     "execution_count": 10,
     "metadata": {},
     "output_type": "execute_result"
    }
   ],
   "source": [
    "#check null values\n",
    "df_sub.isnull().sum()"
   ]
  },
  {
   "cell_type": "code",
   "execution_count": 11,
   "metadata": {},
   "outputs": [],
   "source": [
    "#Drop null values in both columns 'EmploymentStatus','DelinquenciesLast7Years','ProsperRating (Alpha)'\n",
    "df_sub = df_sub.dropna(subset=['EmploymentStatus','DelinquenciesLast7Years','ProsperRating (Alpha)'])\n",
    "#Replace all null values in TotalProsperLoans with 0\n",
    "df_sub['TotalProsperLoans']=df_sub.TotalProsperLoans.fillna(0) "
   ]
  },
  {
   "cell_type": "code",
   "execution_count": 12,
   "metadata": {},
   "outputs": [
    {
     "name": "stdout",
     "output_type": "stream",
     "text": [
      "<class 'pandas.core.frame.DataFrame'>\n",
      "Int64Index: 84853 entries, 1 to 113936\n",
      "Data columns (total 12 columns):\n",
      " #   Column                     Non-Null Count  Dtype         \n",
      "---  ------                     --------------  -----         \n",
      " 0   Term                       84853 non-null  int64         \n",
      " 1   LoanStatus                 84853 non-null  object        \n",
      " 2   BorrowerRate               84853 non-null  float64       \n",
      " 3   ProsperRating (Alpha)      84853 non-null  object        \n",
      " 4   ListingCategory (numeric)  84853 non-null  int64         \n",
      " 5   EmploymentStatus           84853 non-null  object        \n",
      " 6   DelinquenciesLast7Years    84853 non-null  float64       \n",
      " 7   StatedMonthlyIncome        84853 non-null  float64       \n",
      " 8   TotalProsperLoans          84853 non-null  float64       \n",
      " 9   LoanOriginalAmount         84853 non-null  int64         \n",
      " 10  LoanOriginationDate        84853 non-null  datetime64[ns]\n",
      " 11  Investors                  84853 non-null  int64         \n",
      "dtypes: datetime64[ns](1), float64(4), int64(4), object(3)\n",
      "memory usage: 8.4+ MB\n"
     ]
    }
   ],
   "source": [
    "df_sub.info()"
   ]
  },
  {
   "cell_type": "code",
   "execution_count": 13,
   "metadata": {},
   "outputs": [
    {
     "data": {
      "text/plain": [
       "0"
      ]
     },
     "execution_count": 13,
     "metadata": {},
     "output_type": "execute_result"
    }
   ],
   "source": [
    "#Check if there wwas null values overall sub dataset\n",
    "df_sub.isnull().sum().sum()"
   ]
  },
  {
   "cell_type": "code",
   "execution_count": 14,
   "metadata": {},
   "outputs": [
    {
     "data": {
      "text/html": [
       "<div>\n",
       "<style scoped>\n",
       "    .dataframe tbody tr th:only-of-type {\n",
       "        vertical-align: middle;\n",
       "    }\n",
       "\n",
       "    .dataframe tbody tr th {\n",
       "        vertical-align: top;\n",
       "    }\n",
       "\n",
       "    .dataframe thead th {\n",
       "        text-align: right;\n",
       "    }\n",
       "</style>\n",
       "<table border=\"1\" class=\"dataframe\">\n",
       "  <thead>\n",
       "    <tr style=\"text-align: right;\">\n",
       "      <th></th>\n",
       "      <th>Term</th>\n",
       "      <th>LoanStatus</th>\n",
       "      <th>BorrowerRate</th>\n",
       "      <th>ProsperRating (Alpha)</th>\n",
       "      <th>ListingCategory (numeric)</th>\n",
       "      <th>EmploymentStatus</th>\n",
       "      <th>DelinquenciesLast7Years</th>\n",
       "      <th>StatedMonthlyIncome</th>\n",
       "      <th>TotalProsperLoans</th>\n",
       "      <th>LoanOriginalAmount</th>\n",
       "      <th>LoanOriginationDate</th>\n",
       "      <th>Investors</th>\n",
       "    </tr>\n",
       "  </thead>\n",
       "  <tbody>\n",
       "    <tr>\n",
       "      <th>101847</th>\n",
       "      <td>60</td>\n",
       "      <td>Current</td>\n",
       "      <td>0.1396</td>\n",
       "      <td>A</td>\n",
       "      <td>1</td>\n",
       "      <td>Employed</td>\n",
       "      <td>0.0</td>\n",
       "      <td>12000.000000</td>\n",
       "      <td>0.0</td>\n",
       "      <td>25000</td>\n",
       "      <td>2012-02-14</td>\n",
       "      <td>178</td>\n",
       "    </tr>\n",
       "    <tr>\n",
       "      <th>26404</th>\n",
       "      <td>36</td>\n",
       "      <td>Completed</td>\n",
       "      <td>0.3199</td>\n",
       "      <td>HR</td>\n",
       "      <td>1</td>\n",
       "      <td>Employed</td>\n",
       "      <td>0.0</td>\n",
       "      <td>4833.333333</td>\n",
       "      <td>0.0</td>\n",
       "      <td>4000</td>\n",
       "      <td>2011-05-04</td>\n",
       "      <td>36</td>\n",
       "    </tr>\n",
       "    <tr>\n",
       "      <th>59877</th>\n",
       "      <td>60</td>\n",
       "      <td>Current</td>\n",
       "      <td>0.2672</td>\n",
       "      <td>D</td>\n",
       "      <td>1</td>\n",
       "      <td>Employed</td>\n",
       "      <td>0.0</td>\n",
       "      <td>8333.333333</td>\n",
       "      <td>0.0</td>\n",
       "      <td>15000</td>\n",
       "      <td>2013-03-26</td>\n",
       "      <td>196</td>\n",
       "    </tr>\n",
       "    <tr>\n",
       "      <th>84938</th>\n",
       "      <td>36</td>\n",
       "      <td>Current</td>\n",
       "      <td>0.2925</td>\n",
       "      <td>E</td>\n",
       "      <td>1</td>\n",
       "      <td>Employed</td>\n",
       "      <td>1.0</td>\n",
       "      <td>5000.000000</td>\n",
       "      <td>0.0</td>\n",
       "      <td>4000</td>\n",
       "      <td>2013-11-22</td>\n",
       "      <td>54</td>\n",
       "    </tr>\n",
       "    <tr>\n",
       "      <th>86446</th>\n",
       "      <td>60</td>\n",
       "      <td>Current</td>\n",
       "      <td>0.1520</td>\n",
       "      <td>B</td>\n",
       "      <td>1</td>\n",
       "      <td>Employed</td>\n",
       "      <td>0.0</td>\n",
       "      <td>6191.666667</td>\n",
       "      <td>0.0</td>\n",
       "      <td>15500</td>\n",
       "      <td>2013-09-24</td>\n",
       "      <td>113</td>\n",
       "    </tr>\n",
       "    <tr>\n",
       "      <th>37030</th>\n",
       "      <td>36</td>\n",
       "      <td>Chargedoff</td>\n",
       "      <td>0.2747</td>\n",
       "      <td>D</td>\n",
       "      <td>5</td>\n",
       "      <td>Full-time</td>\n",
       "      <td>0.0</td>\n",
       "      <td>833.333333</td>\n",
       "      <td>0.0</td>\n",
       "      <td>1000</td>\n",
       "      <td>2009-11-09</td>\n",
       "      <td>31</td>\n",
       "    </tr>\n",
       "    <tr>\n",
       "      <th>68162</th>\n",
       "      <td>36</td>\n",
       "      <td>Current</td>\n",
       "      <td>0.3108</td>\n",
       "      <td>E</td>\n",
       "      <td>7</td>\n",
       "      <td>Employed</td>\n",
       "      <td>0.0</td>\n",
       "      <td>3333.333333</td>\n",
       "      <td>0.0</td>\n",
       "      <td>7500</td>\n",
       "      <td>2011-11-30</td>\n",
       "      <td>80</td>\n",
       "    </tr>\n",
       "    <tr>\n",
       "      <th>65287</th>\n",
       "      <td>60</td>\n",
       "      <td>Current</td>\n",
       "      <td>0.1685</td>\n",
       "      <td>C</td>\n",
       "      <td>1</td>\n",
       "      <td>Employed</td>\n",
       "      <td>0.0</td>\n",
       "      <td>3465.666667</td>\n",
       "      <td>0.0</td>\n",
       "      <td>10000</td>\n",
       "      <td>2013-12-17</td>\n",
       "      <td>48</td>\n",
       "    </tr>\n",
       "    <tr>\n",
       "      <th>13447</th>\n",
       "      <td>36</td>\n",
       "      <td>Defaulted</td>\n",
       "      <td>0.3177</td>\n",
       "      <td>HR</td>\n",
       "      <td>7</td>\n",
       "      <td>Employed</td>\n",
       "      <td>0.0</td>\n",
       "      <td>4666.666667</td>\n",
       "      <td>0.0</td>\n",
       "      <td>4000</td>\n",
       "      <td>2012-05-25</td>\n",
       "      <td>4</td>\n",
       "    </tr>\n",
       "    <tr>\n",
       "      <th>45695</th>\n",
       "      <td>60</td>\n",
       "      <td>Completed</td>\n",
       "      <td>0.1399</td>\n",
       "      <td>B</td>\n",
       "      <td>6</td>\n",
       "      <td>Employed</td>\n",
       "      <td>0.0</td>\n",
       "      <td>2000.000000</td>\n",
       "      <td>1.0</td>\n",
       "      <td>11500</td>\n",
       "      <td>2011-03-11</td>\n",
       "      <td>220</td>\n",
       "    </tr>\n",
       "  </tbody>\n",
       "</table>\n",
       "</div>"
      ],
      "text/plain": [
       "        Term  LoanStatus  BorrowerRate ProsperRating (Alpha)  \\\n",
       "101847    60     Current        0.1396                     A   \n",
       "26404     36   Completed        0.3199                    HR   \n",
       "59877     60     Current        0.2672                     D   \n",
       "84938     36     Current        0.2925                     E   \n",
       "86446     60     Current        0.1520                     B   \n",
       "37030     36  Chargedoff        0.2747                     D   \n",
       "68162     36     Current        0.3108                     E   \n",
       "65287     60     Current        0.1685                     C   \n",
       "13447     36   Defaulted        0.3177                    HR   \n",
       "45695     60   Completed        0.1399                     B   \n",
       "\n",
       "        ListingCategory (numeric) EmploymentStatus  DelinquenciesLast7Years  \\\n",
       "101847                          1         Employed                      0.0   \n",
       "26404                           1         Employed                      0.0   \n",
       "59877                           1         Employed                      0.0   \n",
       "84938                           1         Employed                      1.0   \n",
       "86446                           1         Employed                      0.0   \n",
       "37030                           5        Full-time                      0.0   \n",
       "68162                           7         Employed                      0.0   \n",
       "65287                           1         Employed                      0.0   \n",
       "13447                           7         Employed                      0.0   \n",
       "45695                           6         Employed                      0.0   \n",
       "\n",
       "        StatedMonthlyIncome  TotalProsperLoans  LoanOriginalAmount  \\\n",
       "101847         12000.000000                0.0               25000   \n",
       "26404           4833.333333                0.0                4000   \n",
       "59877           8333.333333                0.0               15000   \n",
       "84938           5000.000000                0.0                4000   \n",
       "86446           6191.666667                0.0               15500   \n",
       "37030            833.333333                0.0                1000   \n",
       "68162           3333.333333                0.0                7500   \n",
       "65287           3465.666667                0.0               10000   \n",
       "13447           4666.666667                0.0                4000   \n",
       "45695           2000.000000                1.0               11500   \n",
       "\n",
       "       LoanOriginationDate  Investors  \n",
       "101847          2012-02-14        178  \n",
       "26404           2011-05-04         36  \n",
       "59877           2013-03-26        196  \n",
       "84938           2013-11-22         54  \n",
       "86446           2013-09-24        113  \n",
       "37030           2009-11-09         31  \n",
       "68162           2011-11-30         80  \n",
       "65287           2013-12-17         48  \n",
       "13447           2012-05-25          4  \n",
       "45695           2011-03-11        220  "
      ]
     },
     "execution_count": 14,
     "metadata": {},
     "output_type": "execute_result"
    }
   ],
   "source": [
    "#Making a copy of dataset ofinterest\n",
    "df=df_sub.copy()\n",
    "df.sample(10)"
   ]
  },
  {
   "cell_type": "code",
   "execution_count": null,
   "metadata": {},
   "outputs": [],
   "source": []
  },
  {
   "cell_type": "markdown",
   "metadata": {},
   "source": [
    "### What is the structure of your dataset?\n",
    " - I have dataset conrain from 84853 raws and 12 columns.\n",
    "- 'Term', 'LoanStatus', 'BorrowerRate', 'ProsperRating (Alpha)','ListingCategory (numeric)', 'EmploymentStatus', 'DelinquenciesLast7Years', 'StatedMonthlyIncome', 'TotalProsperLoans','LoanOriginalAmount', 'LoanOriginationDate', 'Investors'\n",
    "\n",
    "### What is/are the main feature(s) of interest in your dataset?\n",
    "\n",
    "> I will try to figure out what features can be used to predict \n",
    "\n",
    "### What features in the dataset do you think will help support your investigation into your feature(s) of interest?\n",
    "\n",
    "> Until now i think the most important features are:\n",
    "> - loan amount will play a major role and maybe the category of credit. \n",
    "> - Prosper rating will depend on stated income\n",
    "> - effect of Delinquencies Last 7 Years"
   ]
  },
  {
   "cell_type": "code",
   "execution_count": null,
   "metadata": {},
   "outputs": [],
   "source": []
  },
  {
   "cell_type": "markdown",
   "metadata": {},
   "source": [
    "## Univariate Exploration\n",
    "\n",
    "> In this section, investigate distributions of individual variables. If\n",
    "you see unusual points or outliers, take a deeper look to clean things up\n",
    "and prepare yourself to look at relationships between variables."
   ]
  },
  {
   "cell_type": "markdown",
   "metadata": {},
   "source": [
    "> Make sure that, after every plot or related series of plots, that you\n",
    "include a Markdown cell with comments about what you observed, and what\n",
    "you plan on investigating next."
   ]
  },
  {
   "cell_type": "markdown",
   "metadata": {},
   "source": [
    "## 1- check loan status"
   ]
  },
  {
   "cell_type": "code",
   "execution_count": 28,
   "metadata": {},
   "outputs": [
    {
     "data": {
      "text/plain": [
       "Text(0, 0.5, 'Counting for each status')"
      ]
     },
     "execution_count": 28,
     "metadata": {},
     "output_type": "execute_result"
    },
    {
     "data": {
      "image/png": "[encoded data removed]",
      "text/plain": [
       "<Figure size 864x432 with 1 Axes>"
      ]
     },
     "metadata": {
      "needs_background": "light"
     },
     "output_type": "display_data"
    }
   ],
   "source": [
    "# Making base color for visualization\n",
    "base_color = sb.color_palette()[0]\n",
    "#set figure size\n",
    "plt.figure(figsize=[12,6])\n",
    "\n",
    "sb.countplot(data=df , x='LoanStatus' , color=base_color);\n",
    "plt.xticks(rotation=45);\n",
    "plt.title('proportion of loan status');\n",
    "plt.xlabel('Loan status');\n",
    "plt.ylabel('Counting for each status');"
   ]
  },
  {
   "cell_type": "code",
   "execution_count": null,
   "metadata": {},
   "outputs": [],
   "source": [
    "count_status = df.LoanStatus.value_counts();\n",
    "\n",
    "plt.pie(count_status , labels = count_status.index, startangle = 90, counterclock = False);"
   ]
  },
  {
   "cell_type": "code",
   "execution_count": null,
   "metadata": {},
   "outputs": [],
   "source": [
    "# Just summary to use this percentage in observation\n",
    "df.LoanStatus.value_counts()/df.LoanStatus.value_counts().sum()"
   ]
  },
  {
   "cell_type": "markdown",
   "metadata": {},
   "source": [
    "### Conclousion\n",
    "> - It's about 66.6% of loans have current status\n",
    "> - 23.1% Loan have completed status"
   ]
  },
  {
   "cell_type": "markdown",
   "metadata": {},
   "source": [
    " ### 2- Prospers rating Alpha"
   ]
  },
  {
   "cell_type": "code",
   "execution_count": 16,
   "metadata": {},
   "outputs": [],
   "source": [
    "# Cause of data(prosper rating alpha) is ordinal data and it sorted from maximum AA to minimum HR\n",
    "ord_list_alpha = ['AA', 'A', 'B', 'C', 'D', 'E', 'HR']"
   ]
  },
  {
   "cell_type": "code",
   "execution_count": 29,
   "metadata": {},
   "outputs": [
    {
     "data": {
      "text/plain": [
       "Text(0, 0.5, 'Counting for each Rate')"
      ]
     },
     "execution_count": 29,
     "metadata": {},
     "output_type": "execute_result"
    },
    {
     "data": {
      "image/png": "[encoded data removed]",
      "text/plain": [
       "<Figure size 432x288 with 1 Axes>"
      ]
     },
     "metadata": {
      "needs_background": "light"
     },
     "output_type": "display_data"
    }
   ],
   "source": [
    "sb.countplot(data=df, x='ProsperRating (Alpha)', color=base_color, order= ord_list_alpha );\n",
    "plt.title('proportion of prosper rating Alpha');\n",
    "plt.xlabel('Prosper Rating');\n",
    "plt.ylabel('Counting for each Rate');"
   ]
  },
  {
   "cell_type": "markdown",
   "metadata": {},
   "source": [
    "### Observation \n",
    "> I realized from above graph that these data is almost normally distirbuted with common value C and minimum values(AA and HR)"
   ]
  },
  {
   "cell_type": "markdown",
   "metadata": {},
   "source": [
    "### 3- Employment status"
   ]
  },
  {
   "cell_type": "code",
   "execution_count": 31,
   "metadata": {},
   "outputs": [
    {
     "data": {
      "image/png": "[encoded data removed]",
      "text/plain": [
       "<Figure size 432x288 with 1 Axes>"
      ]
     },
     "metadata": {
      "needs_background": "light"
     },
     "output_type": "display_data"
    }
   ],
   "source": [
    "sb.countplot(data= df, y='EmploymentStatus', color=base_color)\n",
    "plt.title('proportion of Employment status');\n",
    "plt.ylabel('Employment status');\n",
    "plt.xlabel('Counting for each status');"
   ]
  },
  {
   "cell_type": "code",
   "execution_count": 19,
   "metadata": {},
   "outputs": [
    {
     "data": {
      "image/png": "[encoded data removed]",
      "text/plain": [
       "<Figure size 432x288 with 1 Axes>"
      ]
     },
     "metadata": {},
     "output_type": "display_data"
    }
   ],
   "source": [
    "count_status2 = df.EmploymentStatus.value_counts();\n",
    "plt.pie(count_status2 , labels = count_status2.index, startangle = 90, counterclock = False);"
   ]
  },
  {
   "cell_type": "markdown",
   "metadata": {},
   "source": [
    "### Conclousion\n",
    "> - Found high people go to take loans is employed status which represent about 79.3% "
   ]
  },
  {
   "cell_type": "markdown",
   "metadata": {},
   "source": [
    "### 3 - Borrower Rate"
   ]
  },
  {
   "cell_type": "code",
   "execution_count": 20,
   "metadata": {},
   "outputs": [
    {
     "data": {
      "image/png": "[encoded data removed]",
      "text/plain": [
       "<Figure size 432x288 with 1 Axes>"
      ]
     },
     "metadata": {
      "needs_background": "light"
     },
     "output_type": "display_data"
    }
   ],
   "source": [
    "\n",
    "plt.hist(data=df , x='BorrowerRate', color=base_color, bins=30);"
   ]
  },
  {
   "cell_type": "code",
   "execution_count": 21,
   "metadata": {},
   "outputs": [
    {
     "data": {
      "text/plain": [
       "count    84853.000000\n",
       "mean         0.196022\n",
       "std          0.074631\n",
       "min          0.040000\n",
       "25%          0.135900\n",
       "50%          0.187500\n",
       "75%          0.257400\n",
       "max          0.360000\n",
       "Name: BorrowerRate, dtype: float64"
      ]
     },
     "execution_count": 21,
     "metadata": {},
     "output_type": "execute_result"
    }
   ],
   "source": [
    "df.BorrowerRate.describe()"
   ]
  },
  {
   "cell_type": "markdown",
   "metadata": {},
   "source": [
    "### Conclousion\n",
    "> I realized that Borrower rate is bimodal distirubted and has to peaks first one at 0.16 and second one at 0.32.\n",
    ">and from statistics above i see that:\n",
    "> - about 50% of rates is above 0.18\n",
    "> -  about 75 % of rates is above 0.25\n",
    "> - The maximum rate was 0.36"
   ]
  },
  {
   "cell_type": "code",
   "execution_count": null,
   "metadata": {},
   "outputs": [],
   "source": []
  },
  {
   "cell_type": "markdown",
   "metadata": {},
   "source": [
    "### Discuss the distribution(s) of your variable(s) of interest. Were there any unusual points? Did you need to perform any transformations?\n",
    "\n",
    ">- I found prosper rating alpha was normaly disturibted.\n",
    "> -Also i found Borrower rate was bimodal distirbuted\n",
    "\n",
    "### Of the features you investigated, were there any unusual distributions? Did you perform any operations on the data to tidy, adjust, or change the form of the data? If so, why did you do this?\n",
    "\n",
    "> No i didn't need to do this"
   ]
  },
  {
   "cell_type": "code",
   "execution_count": null,
   "metadata": {},
   "outputs": [],
   "source": []
  },
  {
   "cell_type": "markdown",
   "metadata": {},
   "source": [
    "## Bivariate Exploration\n",
    "\n",
    "> In this section, investigate relationships between pairs of variables in your\n",
    "data. Make sure the variables that you cover here have been introduced in some\n",
    "fashion in the previous section (univariate exploration)."
   ]
  },
  {
   "cell_type": "markdown",
   "metadata": {},
   "source": [
    "### 1- Relation between prosper rating Alpha and Employment status"
   ]
  },
  {
   "cell_type": "code",
   "execution_count": 32,
   "metadata": {},
   "outputs": [
    {
     "data": {
      "image/png": "[encoded data removed]",
      "text/plain": [
       "<Figure size 864x432 with 1 Axes>"
      ]
     },
     "metadata": {
      "needs_background": "light"
     },
     "output_type": "display_data"
    }
   ],
   "source": [
    "plt.figure(figsize = [12, 6])\n",
    "sb.countplot(data =df, x = 'ProsperRating (Alpha)', hue = 'EmploymentStatus', order= ord_list_alpha );\n",
    "plt.title('Relation between prosper rating Alpha and Employment status');\n",
    "plt.xlabel('Prosper Rating Alpha');\n",
    "plt.ylabel('Counting for each Rate');"
   ]
  },
  {
   "cell_type": "markdown",
   "metadata": {},
   "source": [
    "### Concolusion\n",
    "> - We found that lower rates have greater proportion with Employment status self-employed, not employed,part Time and Retired\n",
    "> - But in the other hand there most common status during all rates is Employed status, and in the second Place was Full time status."
   ]
  },
  {
   "cell_type": "markdown",
   "metadata": {},
   "source": [
    "### 2- Relation between Prosper Rating Alpha and Delinquencies in Last 7 Years"
   ]
  },
  {
   "cell_type": "code",
   "execution_count": 33,
   "metadata": {},
   "outputs": [
    {
     "data": {
      "image/png": "[encoded data removed]",
      "text/plain": [
       "<Figure size 864x432 with 1 Axes>"
      ]
     },
     "metadata": {
      "needs_background": "light"
     },
     "output_type": "display_data"
    }
   ],
   "source": [
    "plt.figure(figsize = [12, 6])\n",
    "sb.violinplot(data =df , x = 'ProsperRating (Alpha)', y = 'DelinquenciesLast7Years', color =base_color,order= ord_list_alpha );\n",
    "plt.title('Relation between Prosper Rating Alpha and Delinquencies in Last 7 Years');\n",
    "plt.xlabel('Prosper Rating Alpha');\n",
    "plt.ylabel('Delinquencies in Last 7 Years');"
   ]
  },
  {
   "cell_type": "markdown",
   "metadata": {},
   "source": [
    "### Conclousion:\n",
    "> People with rating AA have delinquencies than other ratings"
   ]
  },
  {
   "cell_type": "markdown",
   "metadata": {},
   "source": [
    "### 3- Relation between Prosper Rating Alpha and Investors"
   ]
  },
  {
   "cell_type": "code",
   "execution_count": 34,
   "metadata": {},
   "outputs": [
    {
     "data": {
      "image/png": "[encoded data removed]",
      "text/plain": [
       "<Figure size 864x432 with 1 Axes>"
      ]
     },
     "metadata": {
      "needs_background": "light"
     },
     "output_type": "display_data"
    }
   ],
   "source": [
    "plt.figure(figsize = [12, 6])\n",
    "sb.violinplot(data = df, x='ProsperRating (Alpha)', y='Investors', color = base_color, order= ord_list_alpha);\n",
    "plt.title('Relation between Prosper Rating Alpha and Investors');\n",
    "plt.xlabel('Prosper Rating Alpha');\n",
    "plt.ylabel('Investors');"
   ]
  },
  {
   "cell_type": "markdown",
   "metadata": {},
   "source": [
    "### Conclousion\n",
    "> Borrower People with high rates have more investors"
   ]
  },
  {
   "cell_type": "code",
   "execution_count": null,
   "metadata": {},
   "outputs": [],
   "source": []
  },
  {
   "cell_type": "markdown",
   "metadata": {},
   "source": [
    "### Talk about some of the relationships you observed in this part of the investigation. How did the feature(s) of interest vary with other features in the dataset?\n",
    "\n",
    "> Borrower rate for individuals with low rating is higher. Employment status of individuals with lower ratings tends to be Not employed, Self-employed, Retired and Part-time.\n",
    "\n",
    "### Did you observe any interesting relationships between the other features (not the main feature(s) of interest)?\n",
    "\n",
    "> From my analysis i observe that the most coom rating was Rate(D)"
   ]
  },
  {
   "cell_type": "markdown",
   "metadata": {},
   "source": [
    "## Multivariate Exploration\n",
    "\n",
    "> Create plots of three or more variables to investigate your data even\n",
    "further. Make sure that your investigations are justified, and follow from\n",
    "your work in the previous sections."
   ]
  },
  {
   "cell_type": "markdown",
   "metadata": {},
   "source": [
    "### 1-  Relation between rating, loan amount and loan status"
   ]
  },
  {
   "cell_type": "code",
   "execution_count": 35,
   "metadata": {},
   "outputs": [
    {
     "data": {
      "image/png": "[encoded data removed]",
      "text/plain": [
       "<Figure size 1080x432 with 1 Axes>"
      ]
     },
     "metadata": {
      "needs_background": "light"
     },
     "output_type": "display_data"
    }
   ],
   "source": [
    "# We will take the loan status of interest which it was completed and defaulted\n",
    "loan_category=df.query('LoanStatus==\"Current\" or LoanStatus== \"Defaulted\"')\n",
    "\n",
    "plt.figure(figsize = [15, 6])\n",
    "\n",
    "sb.violinplot(data= loan_category, x='ProsperRating (Alpha)', y='LoanOriginalAmount', hue='LoanStatus', order= ord_list_alpha);\n",
    "plt.title(' Relation between rating, loan amount and loan status');\n",
    "plt.xlabel('Prosper Rating Alpha');\n",
    "plt.ylabel('Loan Otiginal amount');\n"
   ]
  },
  {
   "cell_type": "code",
   "execution_count": null,
   "metadata": {},
   "outputs": [],
   "source": []
  },
  {
   "cell_type": "markdown",
   "metadata": {},
   "source": [
    "### Talk about some of the relationships you observed in this part of the investigation. Were there features that strengthened each other in terms of looking at your feature(s) of interest?\n",
    "\n",
    "> - the lowest ratings defaulted credits tend to be larger than completed. \n",
    "> - defaulted credits tend to be smaller than completed\n",
    ">\n",
    "### Were there any interesting or surprising interactions between features?\n",
    "\n",
    "> I realized  defaulted credits with high Prosper ratings tend to be larger than completed credits"
   ]
  },
  {
   "cell_type": "markdown",
   "metadata": {},
   "source": [
    "> At the end of your report, make sure that you export the notebook as an\n",
    "html file from the `File > Download as... > HTML` menu. Make sure you keep\n",
    "track of where the exported file goes, so you can put it in the same folder\n",
    "as this notebook for project submission. Also, make sure you remove all of\n",
    "the quote-formatted guide notes like this one before you finish your report!"
   ]
  },
  {
   "cell_type": "code",
   "execution_count": 26,
   "metadata": {},
   "outputs": [],
   "source": [
    "#save Wrangled data to be use\n",
    "df.to_csv('wrangling_data.csv',index=False)"
   ]
  }
 ],
 "metadata": {
  "kernelspec": {
   "display_name": "Python 3",
   "language": "python",
   "name": "python3"
  },
  "language_info": {
   "codemirror_mode": {
    "name": "ipython",
    "version": 3
   },
   "file_extension": ".py",
   "mimetype": "text/x-python",
   "name": "python",
   "nbconvert_exporter": "python",
   "pygments_lexer": "ipython3",
   "version": "3.8.5"
  }
 },
 "nbformat": 4,
 "nbformat_minor": 2
}
